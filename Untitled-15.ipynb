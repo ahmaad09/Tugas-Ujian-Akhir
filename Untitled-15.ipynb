{
 "cells": [
  {
   "cell_type": "markdown",
   "metadata": {},
   "source": [
    "# Implementasi sederhana untuk pencarian dokumen mengunakan algoritma indexing"
   ]
  },
  {
   "cell_type": "markdown",
   "metadata": {},
   "source": [
    "#### Contoh implementasi sederhana indexing"
   ]
  },
  {
   "cell_type": "code",
   "execution_count": 8,
   "metadata": {},
   "outputs": [],
   "source": [
    "from collections import defaultdict\n",
    "\n",
    "# Data dokumen contoh\n",
    "documents = {\n",
    "    1: \"Pada hari yang cerah, anak-anak bermain di taman.\",\n",
    "    2: \"Kucing hitam sedang duduk di atas mobil merah.\",\n",
    "    3: \"Anak-anak senang bermain bola di lapangan hijau.\"\n",
    "}\n",
    "\n",
    "# Fungsi untuk membuat index\n",
    "def create_index(documents):\n",
    "    index = defaultdict(list)\n",
    "    for doc_id, text in documents.items():\n",
    "        terms = text.lower().split()  # Tokenisasi sederhana\n",
    "        for term in terms:\n",
    "            index[term].append(doc_id)\n",
    "    return index\n",
    "\n",
    "# Membuat index\n",
    "index = create_index(documents)\n"
   ]
  },
  {
   "cell_type": "code",
   "execution_count": 10,
   "metadata": {},
   "outputs": [
    {
     "name": "stdout",
     "output_type": "stream",
     "text": [
      "Dokumen yang mengandung kata ' anak bermain ': {1, 3}\n"
     ]
    }
   ],
   "source": [
    "# Fungsi untuk melakukan pencarian dengan index\n",
    "def search(query, index):\n",
    "    terms = query.lower().split()  # Tokenisasi query\n",
    "    result_docs = None\n",
    "    \n",
    "    # Inisialisasi hasil pencarian dengan dokumen yang mengandung term pertama\n",
    "    if terms:\n",
    "        result_docs = set(index[terms[0]])\n",
    "    \n",
    "    # Menggunakan operasi union untuk menggabungkan dokumen yang mengandung semua term\n",
    "    for term in terms[1:]:\n",
    "        result_docs = result_docs.union(index[term])\n",
    "    \n",
    "    return result_docs\n",
    "\n",
    "# Contoh pencarian\n",
    "query = \"anak bermain\"\n",
    "result = search(query, index)\n",
    "print(\"Dokumen yang mengandung kata '\", query, \"':\", result)\n"
   ]
  }
 ],
 "metadata": {
  "kernelspec": {
   "display_name": "Python 3",
   "language": "python",
   "name": "python3"
  },
  "language_info": {
   "codemirror_mode": {
    "name": "ipython",
    "version": 3
   },
   "file_extension": ".py",
   "mimetype": "text/x-python",
   "name": "python",
   "nbconvert_exporter": "python",
   "pygments_lexer": "ipython3",
   "version": "3.12.3"
  }
 },
 "nbformat": 4,
 "nbformat_minor": 2
}
