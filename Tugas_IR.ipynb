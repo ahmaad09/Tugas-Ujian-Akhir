{
 "cells": [
  {
   "cell_type": "markdown",
   "metadata": {},
   "source": [
    "# Implementasi sederhana TF-IDF untuk pencarian dokumen"
   ]
  },
  {
   "cell_type": "code",
   "execution_count": 2,
   "metadata": {},
   "outputs": [],
   "source": [
    "import pandas as pd\n",
    "import numpy as py\n",
    "\n",
    "from sklearn.feature_extraction.text import TfidfVectorizer\n",
    "from sklearn.feature_extraction.text import CountVectorizer\n",
    "from sklearn.metrics.pairwise import cosine_similarity"
   ]
  },
  {
   "cell_type": "markdown",
   "metadata": {},
   "source": [
    "### Membaca Data set"
   ]
  },
  {
   "cell_type": "code",
   "execution_count": 3,
   "metadata": {},
   "outputs": [
    {
     "data": {
      "text/html": [
       "<div>\n",
       "<style scoped>\n",
       "    .dataframe tbody tr th:only-of-type {\n",
       "        vertical-align: middle;\n",
       "    }\n",
       "\n",
       "    .dataframe tbody tr th {\n",
       "        vertical-align: top;\n",
       "    }\n",
       "\n",
       "    .dataframe thead th {\n",
       "        text-align: right;\n",
       "    }\n",
       "</style>\n",
       "<table border=\"1\" class=\"dataframe\">\n",
       "  <thead>\n",
       "    <tr style=\"text-align: right;\">\n",
       "      <th></th>\n",
       "      <th>Nama Tempat</th>\n",
       "      <th>Komentar</th>\n",
       "    </tr>\n",
       "  </thead>\n",
       "  <tbody>\n",
       "    <tr>\n",
       "      <th>0</th>\n",
       "      <td>Punclut Dago</td>\n",
       "      <td>kemarin gue datang ke tempat makan baru yg ada di dago atas . gue kira makanan nya enak karena harga nya mahal, ternyata boro boro</td>\n",
       "    </tr>\n",
       "    <tr>\n",
       "      <th>1</th>\n",
       "      <td>Punclut Dago</td>\n",
       "      <td>tidak mau lagi deh ketempat itu, tempatnya terlalu sempit</td>\n",
       "    </tr>\n",
       "    <tr>\n",
       "      <th>2</th>\n",
       "      <td>Punclut Dago</td>\n",
       "      <td>kayak nya sih gue tidak akan mau balik lagi ke tempat itu .</td>\n",
       "    </tr>\n",
       "    <tr>\n",
       "      <th>3</th>\n",
       "      <td>Punclut Dago</td>\n",
       "      <td>gila ya gue enggak ngrti, kenapa tempat nya dibiarkan panas</td>\n",
       "    </tr>\n",
       "    <tr>\n",
       "      <th>4</th>\n",
       "      <td>Punclut Dago</td>\n",
       "      <td>pelayanan di hotel tidak sebagus yang gue bayangkan. . .</td>\n",
       "    </tr>\n",
       "    <tr>\n",
       "      <th>5</th>\n",
       "      <td>Punclut Dago</td>\n",
       "      <td>saya boking hotel lewat online sampai sekarang tidak ada konformasi nya .</td>\n",
       "    </tr>\n",
       "    <tr>\n",
       "      <th>6</th>\n",
       "      <td>Punclut Dago</td>\n",
       "      <td>tempatnya mantabss buwat liat pemandangan sore</td>\n",
       "    </tr>\n",
       "  </tbody>\n",
       "</table>\n",
       "</div>"
      ],
      "text/plain": [
       "    Nama Tempat  \\\n",
       "0  Punclut Dago   \n",
       "1  Punclut Dago   \n",
       "2  Punclut Dago   \n",
       "3  Punclut Dago   \n",
       "4  Punclut Dago   \n",
       "5  Punclut Dago   \n",
       "6  Punclut Dago   \n",
       "\n",
       "                                                                                                                             Komentar  \n",
       "0  kemarin gue datang ke tempat makan baru yg ada di dago atas . gue kira makanan nya enak karena harga nya mahal, ternyata boro boro  \n",
       "1                                                                           tidak mau lagi deh ketempat itu, tempatnya terlalu sempit  \n",
       "2                                                                         kayak nya sih gue tidak akan mau balik lagi ke tempat itu .  \n",
       "3                                                                         gila ya gue enggak ngrti, kenapa tempat nya dibiarkan panas  \n",
       "4                                                                          pelayanan di hotel tidak sebagus yang gue bayangkan. . .    \n",
       "5                                                           saya boking hotel lewat online sampai sekarang tidak ada konformasi nya .  \n",
       "6                                                                                      tempatnya mantabss buwat liat pemandangan sore  "
      ]
     },
     "execution_count": 3,
     "metadata": {},
     "output_type": "execute_result"
    }
   ],
   "source": [
    "df = pd.read_csv('dokument.csv', sep=';')\n",
    "pd.set_option('display.max_colwidth', None)\n",
    "df.head(None)"
   ]
  },
  {
   "cell_type": "markdown",
   "metadata": {},
   "source": [
    "### TF-IDF Search Engine"
   ]
  },
  {
   "cell_type": "code",
   "execution_count": 4,
   "metadata": {},
   "outputs": [],
   "source": [
    "vectorizer = TfidfVectorizer()"
   ]
  },
  {
   "cell_type": "code",
   "execution_count": 5,
   "metadata": {},
   "outputs": [],
   "source": [
    "X = vectorizer.fit_transform(df['Komentar'])"
   ]
  },
  {
   "cell_type": "code",
   "execution_count": 6,
   "metadata": {},
   "outputs": [
    {
     "name": "stdout",
     "output_type": "stream",
     "text": [
      "(7, 58)\n"
     ]
    }
   ],
   "source": [
    "print(X.shape)"
   ]
  },
  {
   "cell_type": "markdown",
   "metadata": {},
   "source": [
    "### Query Prosecesing"
   ]
  },
  {
   "cell_type": "code",
   "execution_count": 7,
   "metadata": {},
   "outputs": [
    {
     "name": "stdout",
     "output_type": "stream",
     "text": [
      "\u001b[1m\u001b[91mPunclut Dago\u001b[0m\n",
      "pelayanan di hotel tidak sebagus yang gue bayangkan. . .  \n",
      "\n",
      "\u001b[1m\u001b[91mPunclut Dago\u001b[0m\n",
      "tidak mau lagi deh ketempat itu, tempatnya terlalu sempit\n",
      "\n",
      "\u001b[1m\u001b[91mPunclut Dago\u001b[0m\n",
      "kayak nya sih gue tidak akan mau balik lagi ke tempat itu .\n",
      "\n",
      "\u001b[1m\u001b[91mPunclut Dago\u001b[0m\n",
      "saya boking hotel lewat online sampai sekarang tidak ada konformasi nya .\n",
      "\n",
      "\u001b[1m\u001b[91mPunclut Dago\u001b[0m\n",
      "tempatnya mantabss buwat liat pemandangan sore\n",
      "\n"
     ]
    }
   ],
   "source": [
    "query = 'tidak'\n",
    "query_vec = vectorizer.transform([query])\n",
    "results = cosine_similarity(X,query_vec).reshape((-1,))\n",
    "for i in results.argsort()[-5:][::-1]:\n",
    "    print('\\033[1m' + '\\033[91m' + df.iloc[i,0] + '\\033[0m')\n",
    "    print(df.iloc[i,1] + \"\\n\")"
   ]
  }
 ],
 "metadata": {
  "kernelspec": {
   "display_name": "Python 3",
   "language": "python",
   "name": "python3"
  },
  "language_info": {
   "codemirror_mode": {
    "name": "ipython",
    "version": 3
   },
   "file_extension": ".py",
   "mimetype": "text/x-python",
   "name": "python",
   "nbconvert_exporter": "python",
   "pygments_lexer": "ipython3",
   "version": "3.12.3"
  }
 },
 "nbformat": 4,
 "nbformat_minor": 2
}
